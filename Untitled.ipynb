{
 "cells": [
  {
   "cell_type": "code",
   "execution_count": 24,
   "metadata": {},
   "outputs": [],
   "source": [
    "import pandas as pd\n",
    "import numpy as np\n",
    "import matplotlib.pyplot  as plt"
   ]
  },
  {
   "cell_type": "code",
   "execution_count": 8,
   "metadata": {},
   "outputs": [],
   "source": [
    "df = pd.read_csv('istherecorrelation.csv', ';')"
   ]
  },
  {
   "cell_type": "code",
   "execution_count": 35,
   "metadata": {
    "scrolled": true
   },
   "outputs": [
    {
     "name": "stdout",
     "output_type": "stream",
     "text": [
      "    Year WO [x1000]  NL Beer consumption [x1000 hectoliter]\n",
      "0   2006      205,9                                   11402\n",
      "1   2007      208,6                                   11492\n",
      "2   2008      212,7                                   11450\n",
      "3   2009      220,5                                   11502\n",
      "4   2010      233,2                                   11474\n",
      "5   2011      242,4                                   11480\n",
      "6   2012      245,4                                   11452\n",
      "7   2013      241,4                                   11484\n",
      "8   2014      250,2                                   11555\n",
      "9   2015      255,7                                   11601\n",
      "10  2016      261,2                                   11731\n",
      "11  2017      267,9                                   11862\n",
      "12  2018      280,1                                   12048\n"
     ]
    }
   ],
   "source": [
    "print(df)\n",
    "df1 = df.iloc(1)[1]\n",
    "df2 = df.iloc(1)[2]"
   ]
  },
  {
   "cell_type": "code",
   "execution_count": 43,
   "metadata": {},
   "outputs": [],
   "source": [
    "plt.figure(figsize=(8,5))\n",
    "plt.plot(df1, df2)\n",
    "for i in range(len(df.Year)):\n",
    "    plt.annotate(df.Year[i], (df1[i], df2[i]))\n",
    "plt.savefig('fig1.png', dpi = 300)\n",
    "plt.close()"
   ]
  }
 ],
 "metadata": {
  "kernelspec": {
   "display_name": "Python 3",
   "language": "python",
   "name": "python3"
  },
  "language_info": {
   "codemirror_mode": {
    "name": "ipython",
    "version": 3
   },
   "file_extension": ".py",
   "mimetype": "text/x-python",
   "name": "python",
   "nbconvert_exporter": "python",
   "pygments_lexer": "ipython3",
   "version": "3.7.4"
  }
 },
 "nbformat": 4,
 "nbformat_minor": 4
}
